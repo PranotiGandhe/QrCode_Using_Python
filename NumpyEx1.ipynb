{
  "nbformat": 4,
  "nbformat_minor": 0,
  "metadata": {
    "colab": {
      "provenance": [],
      "authorship_tag": "ABX9TyOu9bPFK7gbrOqff4BkU09F",
      "include_colab_link": true
    },
    "kernelspec": {
      "name": "python3",
      "display_name": "Python 3"
    },
    "language_info": {
      "name": "python"
    }
  },
  "cells": [
    {
      "cell_type": "markdown",
      "metadata": {
        "id": "view-in-github",
        "colab_type": "text"
      },
      "source": [
        "<a href=\"https://colab.research.google.com/github/PranotiGandhe/QrCode_Using_python/blob/master/NumpyEx1.ipynb\" target=\"_parent\"><img src=\"https://colab.research.google.com/assets/colab-badge.svg\" alt=\"Open In Colab\"/></a>"
      ]
    },
    {
      "cell_type": "markdown",
      "metadata": {
        "id": "SzdPGsljIf1r"
      },
      "source": [
        "#### Create an array of 10 zeros"
      ]
    },
    {
      "cell_type": "code",
      "metadata": {
        "id": "qEt1BU73If1u",
        "outputId": "aa71a4ea-1e8b-4aeb-ec8d-1188c872a991",
        "colab": {
          "base_uri": "https://localhost:8080/"
        }
      },
      "source": [
        "import numpy as np\n",
        "arr = np.zeros([10])\n",
        "arr"
      ],
      "execution_count": 3,
      "outputs": [
        {
          "output_type": "execute_result",
          "data": {
            "text/plain": [
              "array([0., 0., 0., 0., 0., 0., 0., 0., 0., 0.])"
            ]
          },
          "metadata": {},
          "execution_count": 3
        }
      ]
    },
    {
      "cell_type": "markdown",
      "metadata": {
        "id": "oxVIhjV8If19"
      },
      "source": [
        "#### Create an array of 10 ones"
      ]
    },
    {
      "cell_type": "code",
      "metadata": {
        "id": "W87ramDpIf1_",
        "outputId": "e11c5e53-004d-4ee3-8772-9054dd572aff",
        "colab": {
          "base_uri": "https://localhost:8080/"
        }
      },
      "source": [
        "arr = np.ones([10])\n",
        "arr"
      ],
      "execution_count": 4,
      "outputs": [
        {
          "output_type": "execute_result",
          "data": {
            "text/plain": [
              "array([1., 1., 1., 1., 1., 1., 1., 1., 1., 1.])"
            ]
          },
          "metadata": {},
          "execution_count": 4
        }
      ]
    },
    {
      "cell_type": "markdown",
      "metadata": {
        "id": "o7efvMDLIf2K"
      },
      "source": [
        "#### Create an array of 10 fives"
      ]
    },
    {
      "cell_type": "code",
      "metadata": {
        "id": "D1w_jD3lIf2M",
        "outputId": "24358a85-4972-4779-ef29-6dcec7795929",
        "colab": {
          "base_uri": "https://localhost:8080/"
        }
      },
      "source": [
        "arr = np.ones([10])\n",
        "for i in range(0,10):\n",
        "  arr[i]=5\n",
        "arr"
      ],
      "execution_count": 10,
      "outputs": [
        {
          "output_type": "execute_result",
          "data": {
            "text/plain": [
              "array([5., 5., 5., 5., 5., 5., 5., 5., 5., 5.])"
            ]
          },
          "metadata": {},
          "execution_count": 10
        }
      ]
    },
    {
      "cell_type": "markdown",
      "metadata": {
        "id": "H4Y942R4If2T"
      },
      "source": [
        "#### Create an array of the integers from 10 to 50\n",
        "array([10, 11, 12, 13, 14, 15, 16, 17, 18, 19, 20, 21, 22, 23, 24, 25, 26,\n",
        "       27, 28, 29, 30, 31, 32, 33, 34, 35, 36, 37, 38, 39, 40, 41, 42, 43,\n",
        "       44, 45, 46, 47, 48, 49, 50])"
      ]
    },
    {
      "cell_type": "code",
      "source": [
        "arr = np.arange(10,51)\n",
        "arr"
      ],
      "metadata": {
        "colab": {
          "base_uri": "https://localhost:8080/"
        },
        "id": "hhk_lNC0F735",
        "outputId": "0a4ae551-3b67-421a-9a6e-f33b8cb087fa"
      },
      "execution_count": 14,
      "outputs": [
        {
          "output_type": "execute_result",
          "data": {
            "text/plain": [
              "array([10, 11, 12, 13, 14, 15, 16, 17, 18, 19, 20, 21, 22, 23, 24, 25, 26,\n",
              "       27, 28, 29, 30, 31, 32, 33, 34, 35, 36, 37, 38, 39, 40, 41, 42, 43,\n",
              "       44, 45, 46, 47, 48, 49, 50])"
            ]
          },
          "metadata": {},
          "execution_count": 14
        }
      ]
    },
    {
      "cell_type": "code",
      "source": [
        "np.arange(10,52,2)"
      ],
      "metadata": {
        "colab": {
          "base_uri": "https://localhost:8080/"
        },
        "id": "Ok3tPPkXlPa1",
        "outputId": "bb55d0da-4875-4da8-b9c6-b156c3142dba"
      },
      "execution_count": 23,
      "outputs": [
        {
          "output_type": "execute_result",
          "data": {
            "text/plain": [
              "array([10, 12, 14, 16, 18, 20, 22, 24, 26, 28, 30, 32, 34, 36, 38, 40, 42,\n",
              "       44, 46, 48, 50])"
            ]
          },
          "metadata": {},
          "execution_count": 23
        }
      ]
    },
    {
      "cell_type": "markdown",
      "metadata": {
        "id": "YA4B2YyUIf2i"
      },
      "source": [
        "#### Create a 3x3 matrix with values ranging from 0 to 8\n",
        "array([[0, 1, 2],\n",
        "       [3, 4, 5],\n",
        "       [6, 7, 8]])"
      ]
    },
    {
      "cell_type": "code",
      "metadata": {
        "id": "wn_WMDgyIf2j",
        "outputId": "1130b4d8-7d71-4574-cf7f-5f1b14232474",
        "colab": {
          "base_uri": "https://localhost:8080/"
        }
      },
      "source": [
        "arr = np.arange(0,9)\n",
        "arr.reshape(3,3)"
      ],
      "execution_count": 28,
      "outputs": [
        {
          "output_type": "execute_result",
          "data": {
            "text/plain": [
              "array([[0, 1, 2],\n",
              "       [3, 4, 5],\n",
              "       [6, 7, 8]])"
            ]
          },
          "metadata": {},
          "execution_count": 28
        }
      ]
    },
    {
      "cell_type": "markdown",
      "metadata": {
        "id": "Los8yf1kIf2p"
      },
      "source": [
        "#### Create a 3x3 identity matrix\n",
        "array([[ 1.,  0.,  0.],\n",
        "       [ 0.,  1.,  0.],\n",
        "       [ 0.,  0.,  1.]])"
      ]
    },
    {
      "cell_type": "code",
      "metadata": {
        "id": "oeWBV_pAIf2q",
        "outputId": "242b5dbe-7316-4ebd-8a95-b5a0d9d21826",
        "colab": {
          "base_uri": "https://localhost:8080/"
        }
      },
      "source": [
        "arr = np.identity(3)\n",
        "arr"
      ],
      "execution_count": 31,
      "outputs": [
        {
          "output_type": "execute_result",
          "data": {
            "text/plain": [
              "array([[1., 0., 0.],\n",
              "       [0., 1., 0.],\n",
              "       [0., 0., 1.]])"
            ]
          },
          "metadata": {},
          "execution_count": 31
        }
      ]
    },
    {
      "cell_type": "markdown",
      "metadata": {
        "id": "U4TsBLBTIf2w"
      },
      "source": [
        "#### Use NumPy to generate a random number between 0 and 1\n",
        "array([ 0.42829726])"
      ]
    },
    {
      "cell_type": "code",
      "metadata": {
        "id": "ertxwAGNIf2y",
        "outputId": "44d100af-1e57-4df5-b136-935f45498831",
        "colab": {
          "base_uri": "https://localhost:8080/"
        }
      },
      "source": [
        "ran = np.random.normal(0,1,1)\n",
        "ran"
      ],
      "execution_count": 35,
      "outputs": [
        {
          "output_type": "execute_result",
          "data": {
            "text/plain": [
              "array([-0.60892695])"
            ]
          },
          "metadata": {},
          "execution_count": 35
        }
      ]
    },
    {
      "cell_type": "markdown",
      "metadata": {
        "id": "JDJWlPuUIf23"
      },
      "source": [
        "#### Use NumPy to generate an array of 25 random numbers sampled from a standard normal distribution"
      ]
    },
    {
      "cell_type": "code",
      "metadata": {
        "id": "nx4HbeGjIf24",
        "outputId": "b704ab28-882d-48fe-ca46-9975acfd9f71",
        "colab": {
          "base_uri": "https://localhost:8080/"
        }
      },
      "source": [
        "ran = np.random.normal(0,1,25)\n",
        "ran"
      ],
      "execution_count": 37,
      "outputs": [
        {
          "output_type": "execute_result",
          "data": {
            "text/plain": [
              "array([-0.81258326, -0.12169821,  0.22471874, -0.51236934, -0.31356942,\n",
              "       -0.35926345,  2.52670311,  1.43521703,  1.18321001, -0.34001839,\n",
              "       -0.54972253, -1.30509895,  0.52348705, -0.95881147, -1.02932003,\n",
              "       -0.01522919,  0.68336954, -0.02192998,  1.54608129,  0.69385577,\n",
              "        1.67142581, -0.85629321,  0.67108474, -1.2111065 ,  1.06423163])"
            ]
          },
          "metadata": {},
          "execution_count": 37
        }
      ]
    },
    {
      "cell_type": "markdown",
      "metadata": {
        "id": "_Xnufor-If3C"
      },
      "source": [
        "#### Create the following matrix:\n",
        "\n",
        "array([[ 0.01,  0.02,  0.03,  0.04,  0.05,  0.06,  0.07,  0.08,  0.09,  0.1 ],\n",
        "       [ 0.11,  0.12,  0.13,  0.14,  0.15,  0.16,  0.17,  0.18,  0.19,  0.2 ],\n",
        "       [ 0.21,  0.22,  0.23,  0.24,  0.25,  0.26,  0.27,  0.28,  0.29,  0.3 ],\n",
        "       [ 0.31,  0.32,  0.33,  0.34,  0.35,  0.36,  0.37,  0.38,  0.39,  0.4 ],\n",
        "       [ 0.41,  0.42,  0.43,  0.44,  0.45,  0.46,  0.47,  0.48,  0.49,  0.5 ],\n",
        "       [ 0.51,  0.52,  0.53,  0.54,  0.55,  0.56,  0.57,  0.58,  0.59,  0.6 ],\n",
        "       [ 0.61,  0.62,  0.63,  0.64,  0.65,  0.66,  0.67,  0.68,  0.69,  0.7 ],\n",
        "       [ 0.71,  0.72,  0.73,  0.74,  0.75,  0.76,  0.77,  0.78,  0.79,  0.8 ],\n",
        "       [ 0.81,  0.82,  0.83,  0.84,  0.85,  0.86,  0.87,  0.88,  0.89,  0.9 ],\n",
        "       [ 0.91,  0.92,  0.93,  0.94,  0.95,  0.96,  0.97,  0.98,  0.99,  1.  ]])\n",
        "\n"
      ]
    },
    {
      "cell_type": "code",
      "metadata": {
        "id": "MlKS0BQZIf3D",
        "outputId": "bd7dc960-ee95-4fca-c314-d1fd961a95d8",
        "colab": {
          "base_uri": "https://localhost:8080/"
        }
      },
      "source": [
        "arr = np.arange(1,101)\n",
        "arr = arr.reshape(10,10) / 100\n",
        "arr"
      ],
      "execution_count": 40,
      "outputs": [
        {
          "output_type": "execute_result",
          "data": {
            "text/plain": [
              "array([[0.01, 0.02, 0.03, 0.04, 0.05, 0.06, 0.07, 0.08, 0.09, 0.1 ],\n",
              "       [0.11, 0.12, 0.13, 0.14, 0.15, 0.16, 0.17, 0.18, 0.19, 0.2 ],\n",
              "       [0.21, 0.22, 0.23, 0.24, 0.25, 0.26, 0.27, 0.28, 0.29, 0.3 ],\n",
              "       [0.31, 0.32, 0.33, 0.34, 0.35, 0.36, 0.37, 0.38, 0.39, 0.4 ],\n",
              "       [0.41, 0.42, 0.43, 0.44, 0.45, 0.46, 0.47, 0.48, 0.49, 0.5 ],\n",
              "       [0.51, 0.52, 0.53, 0.54, 0.55, 0.56, 0.57, 0.58, 0.59, 0.6 ],\n",
              "       [0.61, 0.62, 0.63, 0.64, 0.65, 0.66, 0.67, 0.68, 0.69, 0.7 ],\n",
              "       [0.71, 0.72, 0.73, 0.74, 0.75, 0.76, 0.77, 0.78, 0.79, 0.8 ],\n",
              "       [0.81, 0.82, 0.83, 0.84, 0.85, 0.86, 0.87, 0.88, 0.89, 0.9 ],\n",
              "       [0.91, 0.92, 0.93, 0.94, 0.95, 0.96, 0.97, 0.98, 0.99, 1.  ]])"
            ]
          },
          "metadata": {},
          "execution_count": 40
        }
      ]
    },
    {
      "cell_type": "markdown",
      "metadata": {
        "id": "vm97HDqgIf3J"
      },
      "source": [
        "#### Create an array of 20 linearly spaced points between 0 and 1:\n",
        "array([ 0.        ,  0.05263158,  0.10526316,  0.15789474,  0.21052632,\n",
        "        0.26315789,  0.31578947,  0.36842105,  0.42105263,  0.47368421,\n",
        "        0.52631579,  0.57894737,  0.63157895,  0.68421053,  0.73684211,\n",
        "        0.78947368,  0.84210526,  0.89473684,  0.94736842,  1.        ])"
      ]
    },
    {
      "cell_type": "code",
      "metadata": {
        "id": "cJaUjoNDIf3L",
        "outputId": "6c4d6d88-1ffe-407b-f01f-292abbaed85f",
        "colab": {
          "base_uri": "https://localhost:8080/"
        }
      },
      "source": [
        "np.linspace(0,1,20)"
      ],
      "execution_count": 41,
      "outputs": [
        {
          "output_type": "execute_result",
          "data": {
            "text/plain": [
              "array([0.        , 0.05263158, 0.10526316, 0.15789474, 0.21052632,\n",
              "       0.26315789, 0.31578947, 0.36842105, 0.42105263, 0.47368421,\n",
              "       0.52631579, 0.57894737, 0.63157895, 0.68421053, 0.73684211,\n",
              "       0.78947368, 0.84210526, 0.89473684, 0.94736842, 1.        ])"
            ]
          },
          "metadata": {},
          "execution_count": 41
        }
      ]
    },
    {
      "cell_type": "markdown",
      "metadata": {
        "id": "yazLuOGvIf3S"
      },
      "source": [
        "## Numpy Indexing and Selection\n",
        "\n",
        "Now you will be given a few matrices, and be asked to replicate the resulting matrix outputs:"
      ]
    },
    {
      "cell_type": "code",
      "metadata": {
        "id": "hDYvuwQIIf3T",
        "outputId": "08140901-7cb0-4448-dcb5-ac0748e82d1c",
        "colab": {
          "base_uri": "https://localhost:8080/"
        }
      },
      "source": [
        "mat = np.arange(1,26).reshape(5,5)\n",
        "mat"
      ],
      "execution_count": 44,
      "outputs": [
        {
          "output_type": "execute_result",
          "data": {
            "text/plain": [
              "array([[ 1,  2,  3,  4,  5],\n",
              "       [ 6,  7,  8,  9, 10],\n",
              "       [11, 12, 13, 14, 15],\n",
              "       [16, 17, 18, 19, 20],\n",
              "       [21, 22, 23, 24, 25]])"
            ]
          },
          "metadata": {},
          "execution_count": 44
        }
      ]
    },
    {
      "cell_type": "code",
      "metadata": {
        "id": "zI4wWeOjIf3Z"
      },
      "source": [
        "# WRITE CODE HERE THAT REPRODUCES THE OUTPUT OF THE CELL BELOW\n",
        "# BE CAREFUL NOT TO RUN THE CELL BELOW, OTHERWISE YOU WON'T\n",
        "# BE ABLE TO SEE THE OUTPUT ANY MORE"
      ],
      "execution_count": null,
      "outputs": []
    },
    {
      "cell_type": "markdown",
      "source": [
        "array([[12, 13, 14, 15],\n",
        "       [17, 18, 19, 20],\n",
        "       [22, 23, 24, 25]])"
      ],
      "metadata": {
        "id": "5qaihB74vxam"
      }
    },
    {
      "cell_type": "code",
      "metadata": {
        "id": "YkyyRpk0If3d",
        "outputId": "49fdcbd8-f243-4b38-a04f-286df73f6097",
        "colab": {
          "base_uri": "https://localhost:8080/"
        }
      },
      "source": [
        "mat[2:,1:]"
      ],
      "execution_count": 45,
      "outputs": [
        {
          "output_type": "execute_result",
          "data": {
            "text/plain": [
              "array([[12, 13, 14, 15],\n",
              "       [17, 18, 19, 20],\n",
              "       [22, 23, 24, 25]])"
            ]
          },
          "metadata": {},
          "execution_count": 45
        }
      ]
    },
    {
      "cell_type": "code",
      "metadata": {
        "id": "mOR8j8Z0If3g"
      },
      "source": [
        "# WRITE CODE HERE THAT REPRODUCES THE OUTPUT OF THE CELL BELOW\n",
        "# BE CAREFUL NOT TO RUN THE CELL BELOW, OTHERWISE YOU WON'T\n",
        "# BE ABLE TO SEE THE OUTPUT ANY MORE"
      ],
      "execution_count": null,
      "outputs": []
    },
    {
      "cell_type": "markdown",
      "source": [
        "20"
      ],
      "metadata": {
        "id": "MBTedECBv-XJ"
      }
    },
    {
      "cell_type": "code",
      "metadata": {
        "id": "_XXF5I4PIf3i",
        "outputId": "dcec1833-52db-488f-fdb1-66f108fdd9ec",
        "colab": {
          "base_uri": "https://localhost:8080/"
        }
      },
      "source": [
        "mat[3][4]"
      ],
      "execution_count": 47,
      "outputs": [
        {
          "output_type": "execute_result",
          "data": {
            "text/plain": [
              "20"
            ]
          },
          "metadata": {},
          "execution_count": 47
        }
      ]
    },
    {
      "cell_type": "code",
      "metadata": {
        "id": "AIIjOmygIf3l"
      },
      "source": [
        "# WRITE CODE HERE THAT REPRODUCES THE OUTPUT OF THE CELL BELOW\n",
        "# BE CAREFUL NOT TO RUN THE CELL BELOW, OTHERWISE YOU WON'T\n",
        "# BE ABLE TO SEE THE OUTPUT ANY MORE"
      ],
      "execution_count": null,
      "outputs": []
    },
    {
      "cell_type": "code",
      "source": [
        "array([[ 2],\n",
        "       [ 7],\n",
        "       [12]])"
      ],
      "metadata": {
        "id": "8cnFQfDkwhaU"
      },
      "execution_count": null,
      "outputs": []
    },
    {
      "cell_type": "code",
      "metadata": {
        "id": "bt3PEwqYIf3o",
        "outputId": "4845bb96-760a-42fd-ff02-4943d3f8e0b0",
        "colab": {
          "base_uri": "https://localhost:8080/"
        }
      },
      "source": [
        "mat[0:3,1:2]"
      ],
      "execution_count": 48,
      "outputs": [
        {
          "output_type": "execute_result",
          "data": {
            "text/plain": [
              "array([[ 2],\n",
              "       [ 7],\n",
              "       [12]])"
            ]
          },
          "metadata": {},
          "execution_count": 48
        }
      ]
    },
    {
      "cell_type": "code",
      "metadata": {
        "id": "45ydcfpGIf3r"
      },
      "source": [
        "# WRITE CODE HERE THAT REPRODUCES THE OUTPUT OF THE CELL BELOW\n",
        "# BE CAREFUL NOT TO RUN THE CELL BELOW, OTHERWISE YOU WON'T\n",
        "# BE ABLE TO SEE THE OUTPUT ANY MORE"
      ],
      "execution_count": null,
      "outputs": []
    },
    {
      "cell_type": "markdown",
      "source": [
        "array([21, 22, 23, 24, 25])"
      ],
      "metadata": {
        "id": "4pLHq56bwq51"
      }
    },
    {
      "cell_type": "code",
      "metadata": {
        "id": "6irdbLVZIf3u",
        "outputId": "0338e646-29a3-463e-fe20-a5801aac3fc0",
        "colab": {
          "base_uri": "https://localhost:8080/"
        }
      },
      "source": [
        "mat[4]"
      ],
      "execution_count": 49,
      "outputs": [
        {
          "output_type": "execute_result",
          "data": {
            "text/plain": [
              "array([21, 22, 23, 24, 25])"
            ]
          },
          "metadata": {},
          "execution_count": 49
        }
      ]
    },
    {
      "cell_type": "code",
      "metadata": {
        "id": "0Hpu9bwIIf3y"
      },
      "source": [
        "# WRITE CODE HERE THAT REPRODUCES THE OUTPUT OF THE CELL BELOW\n",
        "# BE CAREFUL NOT TO RUN THE CELL BELOW, OTHERWISE YOU WON'T\n",
        "# BE ABLE TO SEE THE OUTPUT ANY MORE"
      ],
      "execution_count": null,
      "outputs": []
    },
    {
      "cell_type": "markdown",
      "source": [
        "array([[16, 17, 18, 19, 20],\n",
        "       [21, 22, 23, 24, 25]])"
      ],
      "metadata": {
        "id": "THx7WHosww2n"
      }
    },
    {
      "cell_type": "code",
      "metadata": {
        "id": "dMEmgdLSIf32",
        "outputId": "86a0f25d-ebc0-4193-ccef-c01325652617",
        "colab": {
          "base_uri": "https://localhost:8080/"
        }
      },
      "source": [
        "mat[3:]"
      ],
      "execution_count": 50,
      "outputs": [
        {
          "output_type": "execute_result",
          "data": {
            "text/plain": [
              "array([[16, 17, 18, 19, 20],\n",
              "       [21, 22, 23, 24, 25]])"
            ]
          },
          "metadata": {},
          "execution_count": 50
        }
      ]
    },
    {
      "cell_type": "markdown",
      "metadata": {
        "id": "Q6mOFUjMIf37"
      },
      "source": [
        "### Now do the following"
      ]
    },
    {
      "cell_type": "markdown",
      "metadata": {
        "id": "mms_S4odIf37"
      },
      "source": [
        "#### Get the sum of all the values in mat"
      ]
    },
    {
      "cell_type": "markdown",
      "source": [
        "325"
      ],
      "metadata": {
        "id": "h_P_ELw-w6Eb"
      }
    },
    {
      "cell_type": "code",
      "metadata": {
        "id": "JdHalkQ7If38",
        "outputId": "cfa40c20-cb5c-4849-9744-567d3d11ac06",
        "colab": {
          "base_uri": "https://localhost:8080/"
        }
      },
      "source": [
        "mat.sum()"
      ],
      "execution_count": 51,
      "outputs": [
        {
          "output_type": "execute_result",
          "data": {
            "text/plain": [
              "325"
            ]
          },
          "metadata": {},
          "execution_count": 51
        }
      ]
    },
    {
      "cell_type": "markdown",
      "metadata": {
        "id": "QlCofLf3If3_"
      },
      "source": [
        "#### Get the standard deviation of the values in mat\n",
        "7.2111025509279782"
      ]
    },
    {
      "cell_type": "code",
      "metadata": {
        "id": "fB5ID6r6If3_",
        "outputId": "52b70ca7-0ff2-47d2-97c9-df915be3c2fd",
        "colab": {
          "base_uri": "https://localhost:8080/"
        }
      },
      "source": [
        "mat.std()"
      ],
      "execution_count": 52,
      "outputs": [
        {
          "output_type": "execute_result",
          "data": {
            "text/plain": [
              "7.211102550927978"
            ]
          },
          "metadata": {},
          "execution_count": 52
        }
      ]
    },
    {
      "cell_type": "markdown",
      "metadata": {
        "id": "8LLNvtIHIf4C"
      },
      "source": [
        "#### Get the sum of all the columns in mat\n",
        "array([55, 60, 65, 70, 75])"
      ]
    },
    {
      "cell_type": "code",
      "metadata": {
        "id": "t1-eqfucIf4D",
        "outputId": "75a1e5fc-25bd-425c-abf3-9ffa0b6bf74e",
        "colab": {
          "base_uri": "https://localhost:8080/"
        }
      },
      "source": [
        "mat.sum(axis=0)"
      ],
      "execution_count": 53,
      "outputs": [
        {
          "output_type": "execute_result",
          "data": {
            "text/plain": [
              "array([55, 60, 65, 70, 75])"
            ]
          },
          "metadata": {},
          "execution_count": 53
        }
      ]
    },
    {
      "cell_type": "code",
      "source": [],
      "metadata": {
        "id": "KoMQjogixmx3"
      },
      "execution_count": null,
      "outputs": []
    }
  ]
}